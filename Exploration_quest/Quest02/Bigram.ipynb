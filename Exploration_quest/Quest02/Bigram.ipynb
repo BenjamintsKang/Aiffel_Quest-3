{
  "nbformat": 4,
  "nbformat_minor": 0,
  "metadata": {
    "colab": {
      "provenance": []
    },
    "kernelspec": {
      "name": "python3",
      "display_name": "Python 3"
    },
    "language_info": {
      "name": "python"
    }
  },
  "cells": [
    {
      "cell_type": "code",
      "execution_count": null,
      "metadata": {
        "id": "9wh7BEXryS7s"
      },
      "outputs": [],
      "source": [
        "from google.colab import drive # 구글 드라이브 연동\n",
        "import re\n",
        "from collections import Counter # collection 라이브러리 연동\n",
        "drive.mount('/content/drive')\n",
        "file=open('Avengers.txt', 'r')\n",
        "s=file.read()"
      ]
    },
    {
      "cell_type": "code",
      "source": [
        "clean = re.sub('[^\\w\\s]', '', s)  # ' 제외한 모든 부호 제거\n",
        "clean_lower = clean.lower() # 텍스트 소문자로 변환해서 저장\n"
      ],
      "metadata": {
        "id": "i4GUCPD9SS-C"
      },
      "execution_count": null,
      "outputs": []
    },
    {
      "cell_type": "code",
      "source": [
        "words = clean_lower.split()                 # 공백을 기준으로 문자열을 분리하여 리스트로 만듦\n",
        "\n",
        "\n",
        "# 원래 생각: 아래와 같이 출력하고, 리스트로 저장해서 활용\n",
        "# for i in range(len(words) - 1):      # 2-gram이므로 리스트의 마지막에서 요소 한 개 앞까지만 반복함\n",
        "    # print(words[i], words[i + 1])    # 현재 문자열과 그다음 문자열 출력\n",
        "\n",
        "# 개선: zip 매서드 활용\n",
        "tw_words = list(zip(words, words[1:]))\n",
        "\n",
        "# 원래: word 사용\n",
        "# freq = Counter(words).most_common() # 빈도수를 구해 튜플을 담은 리스트 형태로 저장\n",
        "# print(\"제일 빈도가 많은 단어 :\", freq[0]) # 제일 많은 빈도수 단어 출력\n",
        "\n",
        "# 재시도: bigram 사용\n",
        "freq = Counter(tw_words).most_common() # 빈도수를 구해 튜플을 담은 리스트 형태로 저장\n",
        "print(\"제일 빈도가 많은 조합 :\", freq[0])\n",
        "\n",
        "\n"
      ],
      "metadata": {
        "id": "vANTQRUYSYPz",
        "collapsed": true,
        "colab": {
          "base_uri": "https://localhost:8080/"
        },
        "outputId": "74f19711-9f8c-459d-e176-12ba0ee45e17"
      },
      "execution_count": 44,
      "outputs": [
        {
          "output_type": "stream",
          "name": "stdout",
          "text": [
            "제일 빈도가 많은 조합 : (('the', 'tesseract'), 30)\n"
          ]
        }
      ]
    },
    {
      "cell_type": "markdown",
      "source": [
        "회고\n",
        "1. 처음에 URL주소로 텍스트파일을 불러들이는 과정에서 오류가 발생해 오전내에    \n",
        "  끝내지 못하였습니다.\n",
        "2. 구글 코렙 연동을 하여 파일을 읽어들이니 훨씬 수월하게 가능하였습니다.\n",
        "3. 처음에는 막막하였는데 반복문이나 조건문을 써서 함수를 만드는 것 보다 이미 만들어진 내장함수를 사용하니 훨씬 구문이 간단해졌습니다."
      ],
      "metadata": {
        "id": "-UOsskhuC8nd"
      }
    }
  ]
}