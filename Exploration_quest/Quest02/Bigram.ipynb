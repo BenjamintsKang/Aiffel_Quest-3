{
  "nbformat": 4,
  "nbformat_minor": 0,
  "metadata": {
    "colab": {
      "provenance": []
    },
    "kernelspec": {
      "name": "python3",
      "display_name": "Python 3"
    },
    "language_info": {
      "name": "python"
    }
  },
  "cells": [
    {
      "cell_type": "code",
      "execution_count": null,
      "metadata": {
        "id": "9wh7BEXryS7s",
        "colab": {
          "base_uri": "https://localhost:8080/"
        },
        "outputId": "1b4750da-4ec0-4863-ab7a-57a4bd11c8ff",
        "collapsed": true
      },
      "outputs": [
        {
          "output_type": "stream",
          "name": "stdout",
          "text": [
            "Drive already mounted at /content/drive; to attempt to forcibly remount, call drive.mount(\"/content/drive\", force_remount=True).\n"
          ]
        }
      ],
      "source": [
        "from google.colab import drive # 구글 드라이브 연동\n",
        "import re\n",
        "from collections import Counter # collection 라이브러리 연동\n",
        "drive.mount('/content/drive')\n",
        "file=open('Avengers.txt', 'r')\n",
        "s=file.read()"
      ]
    },
    {
      "cell_type": "code",
      "source": [
        "clean = re.sub('[^\\w\\s]', '', s)  # ' 제외한 모든 부호 제거\n",
        "clean_lower=clean.lower() # 텍스트 소문자로 변환해서 저장\n"
      ],
      "metadata": {
        "id": "i4GUCPD9SS-C",
        "collapsed": true
      },
      "execution_count": null,
      "outputs": []
    },
    {
      "cell_type": "markdown",
      "source": [],
      "metadata": {
        "id": "dAWOA9s_qM69"
      }
    },
    {
      "cell_type": "code",
      "source": [
        "words = clean_lower.split()                 # 공백을 기준으로 문자열을 분리하여 리스트로 만듦\n",
        "\n",
        "for i in range(len(words) - 1):      # 2-gram이므로 리스트의 마지막에서 요소 한 개 앞까지만 반복함\n",
        "    print(words[i], words[i + 1])    # 현재 문자열과 그다음 문자열 출력\n",
        "\n",
        "\n"
      ],
      "metadata": {
        "id": "vANTQRUYSYPz",
        "collapsed": true
      },
      "execution_count": null,
      "outputs": []
    },
    {
      "cell_type": "code",
      "source": [
        "freq = Counter(words).most_common() # 빈도수를 구해 튜플을 담은 리스트 형태로 저장\n",
        "print(\"제일 빈도가 많은 단어 :\", freq[0]) # 제일 많은 빈도수 단어 출력"
      ],
      "metadata": {
        "colab": {
          "base_uri": "https://localhost:8080/"
        },
        "id": "8HfgpNRrmMvb",
        "outputId": "8f3af3e5-aa4c-4613-f03f-a4a725d1958a"
      },
      "execution_count": null,
      "outputs": [
        {
          "output_type": "stream",
          "name": "stdout",
          "text": [
            "제일 빈도가 많은 단어 : ('you', 367)\n"
          ]
        }
      ]
    },
    {
      "cell_type": "code",
      "source": [],
      "metadata": {
        "id": "GUVt6vOKSxu-"
      },
      "execution_count": null,
      "outputs": []
    }
  ]
}