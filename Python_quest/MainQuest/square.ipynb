{
  "nbformat": 4,
  "nbformat_minor": 0,
  "metadata": {
    "colab": {
      "provenance": []
    },
    "kernelspec": {
      "name": "python3",
      "display_name": "Python 3"
    },
    "language_info": {
      "name": "python"
    }
  },
  "cells": [
    {
      "cell_type": "code",
      "execution_count": null,
      "metadata": {
        "colab": {
          "base_uri": "https://localhost:8080/",
          "height": 139
        },
        "id": "LaNkLUnDvVhN",
        "outputId": "9858cd07-5b9c-4bcf-c97c-1d3657f94411"
      },
      "outputs": [
        {
          "name": "stdout",
          "output_type": "stream",
          "text": [
            "넓이를 구하고 싶은 사각형의 숫자를 써주세요.\n",
            " 1.직사각형 2.평행사변형 3.사다리꼴 \n",
            " >>>3\n",
            "사다리꼴 함수는 trape()입니다.\n",
            "밑변, 윗변, 높이 를 입력하세요. 예시 : 밑변,윗변,높이\n",
            " >>>3,2,1\n"
          ]
        },
        {
          "output_type": "execute_result",
          "data": {
            "text/plain": [
              "'평행사변형 의 넓이는 : 2.5'"
            ],
            "application/vnd.google.colaboratory.intrinsic+json": {
              "type": "string"
            }
          },
          "metadata": {},
          "execution_count": 9
        }
      ],
      "source": [
        "class Square:\n",
        "    def __init__(self):\n",
        "        self.square = int(input('넓이를 구하고 싶은 사각형의 숫자를 써주세요.\\n 1.직사각형 2.평행사변형 3.사다리꼴 \\n >>>'))\n",
        "\n",
        "        if self.square == 1:\n",
        "            print('직사각형 함수는 rect()입니다.')\n",
        "\n",
        "        elif self.square == 2:\n",
        "            print('평행사변형 함수는 par()입니다.')\n",
        "\n",
        "        elif self.square == 3:\n",
        "            print('사다리꼴 함수는 trape()입니다.')\n",
        "\n",
        "        else:\n",
        "            print('1, 2, 3 중에서 다시 입력해주세요')\n",
        "\n",
        "    def rect(self):\n",
        "        width, vertical = map(int, input('가로, 세로를 입력하세요. 예시 : 가로,세로\\n >>>').split(','))\n",
        "        area = width * vertical\n",
        "        result = '직사각형의 넓이는 : ' + str(area)\n",
        "        return result\n",
        "\n",
        "    def par(self):\n",
        "        width, vertical = map(int, input('밑변, 높이를 입력하세요. 예시 : 밑변,높이\\n >>>').split(','))\n",
        "        area = width * vertical\n",
        "        result = '평행사변형 의 넓이는 : ' + str(area)\n",
        "        return result\n",
        "\n",
        "    def trape(self):\n",
        "        width, vertical, height = map(int, input('밑변, 윗변, 높이 를 입력하세요. 예시 : 밑변,윗변,높이\\n >>>').split(','))\n",
        "        area = ((width + vertical)* height) * 0.5\n",
        "        result = '평행사변형 의 넓이는 : ' + str(area)\n",
        "        return result\n",
        "\n",
        "a = Square()  # 객체 생성 & 2, 3을 각각 입력해 봅시다.\n",
        "a.trape()"
      ]
    }
  ]
}