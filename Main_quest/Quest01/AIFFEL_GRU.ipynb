{
  "nbformat": 4,
  "nbformat_minor": 0,
  "metadata": {
    "colab": {
      "provenance": []
    },
    "kernelspec": {
      "name": "python3",
      "display_name": "Python 3"
    },
    "language_info": {
      "name": "python"
    }
  },
  "cells": [
    {
      "cell_type": "code",
      "execution_count": 27,
      "metadata": {
        "id": "kZH67fzITFqT"
      },
      "outputs": [],
      "source": [
        "class Aiffel:\n",
        "\n",
        "    def __init__(self, name, year, student_number, subject):\n",
        "      self.menu = ['이    름', '입학연도', '기    수', '수강과목', '학    번']\n",
        "      self.student = []\n",
        "      self.student.append(name)\n",
        "      self.student.append(year)\n",
        "      self.student.append(student_number)\n",
        "      self.student.append(subject)\n",
        "      self.st_number()\n",
        "\n",
        "    def display(self):\n",
        "      for i in range(len(self.menu)):\n",
        "        print(i+1, self.menu[i], ':', self.student[i])\n",
        "\n",
        "    def st_number(self):\n",
        "      number = self.student[1].split('20')\n",
        "      self.student.append(number[1]+'31'+'2'+'01')\n",
        "\n",
        "\n"
      ]
    },
    {
      "cell_type": "code",
      "source": [
        "a = Aiffel('정권영', '2024', '온라인8기', '코어')\n",
        "a.display()\n",
        "a.st_number()"
      ],
      "metadata": {
        "colab": {
          "base_uri": "https://localhost:8080/"
        },
        "id": "vQRscPnkUI5Z",
        "outputId": "dac0eff1-e5c2-4e2b-a995-ce97cab857d0"
      },
      "execution_count": 28,
      "outputs": [
        {
          "output_type": "stream",
          "name": "stdout",
          "text": [
            "1 이    름 : 정권영\n",
            "2 입학연도 : 2024\n",
            "3 기    수 : 온라인8기\n",
            "4 수강과목 : 코어\n",
            "5 학    번 : 2431201\n"
          ]
        }
      ]
    }
  ]
}